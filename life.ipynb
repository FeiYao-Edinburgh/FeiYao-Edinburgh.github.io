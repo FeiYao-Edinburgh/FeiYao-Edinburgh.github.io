{
 "cells": [
  {
   "cell_type": "code",
   "execution_count": 17,
   "metadata": {},
   "outputs": [],
   "source": [
    "# !pip install getorg --upgrade\n",
    "import glob\n",
    "import getorg\n",
    "from geopy import Nominatim\n",
    "location_dict = {} # Place location_dict here to get all values slowly... This way we can avoid applying user-agent..."
   ]
  },
  {
   "cell_type": "code",
   "execution_count": 28,
   "metadata": {
    "scrolled": false
   },
   "outputs": [
    {
     "name": "stderr",
     "output_type": "stream",
     "text": [
      "<ipython-input-28-dac8108d7d8e>:1: DeprecationWarning: Using Nominatim with the default \"geopy/1.21.0\" `user_agent` is strongly discouraged, as it violates Nominatim's ToS https://operations.osmfoundation.org/policies/nominatim/ and may possibly cause 403 and 429 HTTP errors. Please specify a custom `user_agent` with `Nominatim(user_agent=\"my-application\")` or by overriding the default `user_agent`: `geopy.geocoders.options.default_user_agent = \"my-application\"`. In geopy 2.0 this will become an exception.\n",
      "  geocoder = Nominatim()\n"
     ]
    },
    {
     "data": {
      "text/plain": [
       "{'Chizhou Anhui, China': Location(池州市, 贵池区, 池州市 / Chizhou, 安徽省, 247100, China 中国, (30.6671088, 117.4859885, 0.0)),\n",
       " 'Hefei Anhui, China': Location(合肥市, 安徽省, China 中国, (31.75152435, 117.33189367636766, 0.0)),\n",
       " 'Jiaxing Zhejiang, China': Location(嘉兴市, 南湖区 (Nanhu), 嘉兴市, 浙江省, 314000, China 中国, (30.7474425, 120.7510971, 0.0)),\n",
       " 'Nanjing Jiangsu, China': Location(南京市, 江苏省, China 中国, (32.0609736, 118.7916458, 0.0)),\n",
       " 'Suzhou Jiangsu, China': Location(苏州市, 姑苏区, 苏州市, 江苏省, 215129, China 中国, (31.3016935, 120.5810725, 0.0)),\n",
       " 'Ningbo Zhejiang, China': Location(宁波市, 浙江省, China 中国, (29.8622194, 121.6203873, 0.0)),\n",
       " 'Shaoxing Zhejiang, China': Location(绍兴市, 浙江省, China 中国, (29.9992425, 120.576854, 0.0)),\n",
       " 'Chengde Hebei, China': Location(承德市, 双桥区, 承德市, 河北省, 067000, China 中国, (40.957718, 117.9543248, 0.0)),\n",
       " 'Changchun Jilin, China': Location(长春市, 吉林省, 130000, China 中国, (43.8882168, 125.3182578, 0.0)),\n",
       " 'Erdaobaihe Jilin, China': Location(二道白河镇, 安图县, 延边朝鲜族自治州, 吉林省, China 中国, (42.4543595, 128.1376284, 0.0)),\n",
       " 'Tonghua Jilin, China': Location(通化市, 东昌区, 通化市, 吉林省, 134000, China 中国, (41.7225544, 125.9170455, 0.0)),\n",
       " 'Dadong Liaoning, China': Location(大东区, 沈阳市, 辽宁省, 110011, China 中国, (41.8033105, 123.4626387, 0.0)),\n",
       " 'Dalian Liaoning, China': Location(大连市, 中山区, 大连市, 辽宁省, 116011, China 中国, (38.9181714, 121.6282945, 0.0)),\n",
       " 'Hangzhou Zhejiang, China': Location(杭州市, 浙江省, China 中国, (30.2489634, 120.2052342, 0.0)),\n",
       " 'Hong Kong, China': Location(香港 Hong Kong, 中西區 Central and Western District, 香港島 Hong Kong Island, 香港 Hong Kong, 999077, China 中国, (22.2793278, 114.1628131, 0.0)),\n",
       " 'Beijing, China': Location(北京市, 东城区, 北京市, 100010, China 中国, (39.906217, 116.3912757, 0.0)),\n",
       " 'Fuzhou Fujian, China': Location(福州市, 福建省, China 中国, (26.0774954, 119.2918215, 0.0)),\n",
       " 'Wuyishan Fujian, China': Location(武夷山市, 南平市, 福建省, China 中国, (27.7590448, 118.0297688, 0.0)),\n",
       " 'Shenzhen Guangdong, China': Location(深圳市, 福田区, 深圳市, 广东省, 518000, China 中国, (22.555454, 114.0543297, 0.0)),\n",
       " 'Zhoushan Liaoning, China': None,\n",
       " 'Shenyang Liaoning, China': Location(沈阳市, 辽宁省, China 中国, (41.8041094, 123.4276363, 0.0)),\n",
       " 'Guangzhou Guangdong, China': Location(广州市, 越秀区, 广州市, 广东省, 510030, China 中国, (23.1301964, 113.2592945, 0.0)),\n",
       " 'Huizhou Guangdong, China': Location(惠州市, 惠城区 (Huicheng), 惠州市, 广东省, 516003, China 中国, (23.1060862, 114.4141105, 0.0)),\n",
       " 'Wuhan Hubei, China': Location(武汉市, 江岸区, 武汉市, 湖北省, 430062, China 中国, (30.5951051, 114.2999353, 0.0)),\n",
       " 'Lijiang Yunan, China': Location(丽江市, 云南省, China 中国, (26.8740866, 100.2356332, 0.0)),\n",
       " 'Shangri-la Yunnan, China': Location(香格里拉市, 迪庆藏族自治州, 云南省, China 中国, (27.8717021, 99.8365499, 0.0)),\n",
       " 'Guilin Guangxi, China': Location(桂林市, 广西壮族自治区, China 中国, (25.2777506, 110.291804, 0.0)),\n",
       " 'Macao, China': Location(澳門 Macau, China 中国, (22.1757605, 113.5514142, 0.0)),\n",
       " 'Bangkok, Thailand': Location(กรุงเทพมหานคร, เขตพระนคร, กรุงเทพมหานคร, 10200, ประเทศไทย, (13.7542529, 100.493087, 0.0)),\n",
       " 'Chiang Mai, Thailand': Location(เชียงใหม่, จังหวัดเชียงใหม่, 4452, ประเทศไทย, (18.790876, 98.988048, 0.0)),\n",
       " 'Pattaya, Thailand': Location(พัทยา, จังหวัดชลบุรี, 20150, ประเทศไทย, (12.931941, 100.9009534, 0.0)),\n",
       " 'Phuket, Thailand': Location(จังหวัดภูเก็ต, ประเทศไทย, (7.9366015, 98.3529292, 0.0)),\n",
       " 'Siem Reap, Cambodia': Location(ក្រុងសៀមរាប, ខេត្តសៀមរាប, 17524, Cambodia, (13.3617562, 103.8590321, 0.0)),\n",
       " 'Edingburgh, UK': Location(Edingburgh Woolen Mill, Dial Lane, Stoke, Ipswich, Suffolk, East of England, England, IP1 1BH, United Kingdom, (52.0572083, 1.1547828352871985, 0.0)),\n",
       " 'Oxford, UK': Location(Oxford, Oxfordshire, South East, England, United Kingdom, (51.7520131, -1.2578499, 0.0)),\n",
       " 'Birmingham, UK': Location(Birmingham, West Midlands Combined Authority, West Midlands, England, United Kingdom, (52.4796992, -1.9026911, 0.0)),\n",
       " 'Glasgow, UK': Location(Glasgow, Glasgow City, Scotland, G2 9SA, United Kingdom, (55.8609825, -4.2488787, 0.0)),\n",
       " 'London, UK': Location(London, Greater London, England, SW1A 2DX, United Kingdom, (51.5073219, -0.1276474, 0.0)),\n",
       " 'Leeds, UK': Location(Leeds, Yorkshire and the Humber, England, United Kingdom, (53.7974185, -1.5437941, 0.0)),\n",
       " 'Cambridge MA, US': Location(Cambridge, Worcester, Massachusetts, United States of America, (42.3750997, -71.1056157, 0.0)),\n",
       " 'Boston MA, US': Location(Boston, Suffolk County, Massachusetts, United States of America, (42.3602534, -71.0582912, 0.0)),\n",
       " 'Belfast, UK': Location(Belfast, County Antrim, Northern Ireland, BT1 5GS, United Kingdom, (54.5964411, -5.9302761, 0.0)),\n",
       " 'Strasboug, France': None,\n",
       " 'Paris, France': Location(Paris, Île-de-France, France métropolitaine, France, (48.8566969, 2.3514616, 0.0))}"
      ]
     },
     "execution_count": 28,
     "metadata": {},
     "output_type": "execute_result"
    }
   ],
   "source": [
    "geocoder = Nominatim()\n",
    "location_list = [#'Chizhou Anhui, China', 'Hefei Anhui, China', 'Jiaxing Zhejiang, China', 'Nanjing Jiangsu, China', \\\n",
    "#                  'Suzhou Jiangsu, China', 'Ningbo Zhejiang, China', 'Shaoxing Zhejiang, China', \\\n",
    "#                  'Chengde Hebei, China', 'Changchun Jilin, China', 'Erdaobaihe Jilin, China', \\\n",
    "#                  'Tonghua Jilin, China', 'Dadong Liaoning, China', 'Dalian Liaoning, China', \\\n",
    "#                  'Hangzhou Zhejiang, China', 'Hong Kong, China', 'Beijing, China', 'Fuzhou Fujian, China', \\\n",
    "#                  'Wuyishan Fujian, China', 'Shenzhen Guangdong, China', 'Zhoushan Liaoning, China', \\\n",
    "#                  'Shenyang Liaoning, China', 'Guangzhou Guangdong, China', 'Huizhou Guangdong, China', \\\n",
    "#                  'Wuhan Hubei, China', 'Lijiang Yunan, China', 'Shangri-la Yunnan, China', 'Guilin Guangxi, China', \\\n",
    "#                  'Macao, China', 'Bangkok, Thailand', 'Chiang Mai, Thailand', 'Pattaya, Thailand', 'Phuket, Thailand', \\\n",
    "#                  'Siem Reap, Cambodia', 'Edingburgh, UK',\n",
    "    'Oxford, UK', 'Birmingham, UK', 'Glasgow, UK', 'London, UK', \\\n",
    "                 'Leeds, UK', 'Cambridge MA, US', 'Boston MA, US', 'Belfast, UK', 'Strasboug, France', 'Paris, France']\n",
    "for location in location_list:\n",
    "    location_dict.setdefault(location, geocoder.geocode(location))\n",
    "location_dict\n"
   ]
  },
  {
   "cell_type": "code",
   "execution_count": 29,
   "metadata": {},
   "outputs": [
    {
     "data": {
      "text/plain": [
       "'Written map to ./files/'"
      ]
     },
     "execution_count": 29,
     "metadata": {},
     "output_type": "execute_result"
    }
   ],
   "source": [
    "getorg.orgmap.output_html_cluster_map(location_dict, folder_name=\"./files\", hashed_usernames=False)"
   ]
  }
 ],
 "metadata": {
  "kernelspec": {
   "display_name": "Python 3",
   "language": "python",
   "name": "python3"
  },
  "language_info": {
   "codemirror_mode": {
    "name": "ipython",
    "version": 3
   },
   "file_extension": ".py",
   "mimetype": "text/x-python",
   "name": "python",
   "nbconvert_exporter": "python",
   "pygments_lexer": "ipython3",
   "version": "3.8.1"
  }
 },
 "nbformat": 4,
 "nbformat_minor": 4
}
