{
 "cells": [
  {
   "cell_type": "markdown",
   "metadata": {},
   "source": [
    "# Leaflet cluster map of talk locations\n",
    "\n",
    "Run this from the _talks/ directory, which contains .md files of all your talks. This scrapes the location YAML field from each .md file, geolocates it with geopy/Nominatim, and uses the getorg library to output data, HTML, and Javascript for a standalone cluster map."
   ]
  },
  {
   "cell_type": "code",
   "execution_count": 1,
   "metadata": {},
   "outputs": [
    {
     "name": "stdout",
     "output_type": "stream",
     "text": [
      "Requirement already up-to-date: getorg in /exports/csce/datastore/geos/users/s1855106/miniconda/base/envs/life/lib/python3.8/site-packages (0.3.1)\n",
      "Requirement already satisfied, skipping upgrade: pygithub in /exports/csce/datastore/geos/users/s1855106/miniconda/base/envs/life/lib/python3.8/site-packages (from getorg) (1.46)\n",
      "Requirement already satisfied, skipping upgrade: retrying in /exports/csce/datastore/geos/users/s1855106/miniconda/base/envs/life/lib/python3.8/site-packages (from getorg) (1.3.3)\n",
      "Requirement already satisfied, skipping upgrade: geopy in /exports/csce/datastore/geos/users/s1855106/miniconda/base/envs/life/lib/python3.8/site-packages (from getorg) (1.21.0)\n",
      "Requirement already satisfied, skipping upgrade: requests>=2.14.0 in /exports/csce/datastore/geos/users/s1855106/miniconda/base/envs/life/lib/python3.8/site-packages (from pygithub->getorg) (2.22.0)\n",
      "Requirement already satisfied, skipping upgrade: pyjwt in /exports/csce/datastore/geos/users/s1855106/miniconda/base/envs/life/lib/python3.8/site-packages (from pygithub->getorg) (1.7.1)\n",
      "Requirement already satisfied, skipping upgrade: deprecated in /exports/csce/datastore/geos/users/s1855106/miniconda/base/envs/life/lib/python3.8/site-packages (from pygithub->getorg) (1.2.7)\n",
      "Requirement already satisfied, skipping upgrade: six>=1.7.0 in /exports/csce/datastore/geos/users/s1855106/miniconda/base/envs/life/lib/python3.8/site-packages (from retrying->getorg) (1.14.0)\n",
      "Requirement already satisfied, skipping upgrade: geographiclib<2,>=1.49 in /exports/csce/datastore/geos/users/s1855106/miniconda/base/envs/life/lib/python3.8/site-packages (from geopy->getorg) (1.50)\n",
      "Requirement already satisfied, skipping upgrade: idna<2.9,>=2.5 in /exports/csce/datastore/geos/users/s1855106/miniconda/base/envs/life/lib/python3.8/site-packages (from requests>=2.14.0->pygithub->getorg) (2.8)\n",
      "Requirement already satisfied, skipping upgrade: certifi>=2017.4.17 in /exports/csce/datastore/geos/users/s1855106/miniconda/base/envs/life/lib/python3.8/site-packages (from requests>=2.14.0->pygithub->getorg) (2019.11.28)\n",
      "Requirement already satisfied, skipping upgrade: urllib3!=1.25.0,!=1.25.1,<1.26,>=1.21.1 in /exports/csce/datastore/geos/users/s1855106/miniconda/base/envs/life/lib/python3.8/site-packages (from requests>=2.14.0->pygithub->getorg) (1.25.8)\n",
      "Requirement already satisfied, skipping upgrade: chardet<3.1.0,>=3.0.2 in /exports/csce/datastore/geos/users/s1855106/miniconda/base/envs/life/lib/python3.8/site-packages (from requests>=2.14.0->pygithub->getorg) (3.0.4)\n",
      "Requirement already satisfied, skipping upgrade: wrapt<2,>=1.10 in /exports/csce/datastore/geos/users/s1855106/miniconda/base/envs/life/lib/python3.8/site-packages (from deprecated->pygithub->getorg) (1.11.2)\n",
      "Iywidgets and ipyleaflet support disabled. You must be in a Jupyter notebook to use this feature.\n",
      "Error raised:\n",
      "No module named 'ipyleaflet'\n",
      "Check that you have enabled ipyleaflet in Jupyter with:\n",
      "    jupyter nbextension enable --py ipyleaflet\n"
     ]
    }
   ],
   "source": [
    "!pip install getorg --upgrade\n",
    "import glob\n",
    "import getorg\n",
    "from geopy import Nominatim"
   ]
  },
  {
   "cell_type": "code",
   "execution_count": 2,
   "metadata": {},
   "outputs": [],
   "source": [
    "g = glob.glob(\"*.md\")"
   ]
  },
  {
   "cell_type": "code",
   "execution_count": 3,
   "metadata": {
    "collapsed": true
   },
   "outputs": [],
   "source": [
    "geocoder = Nominatim()\n",
    "location_dict = {}\n",
    "location = \"\"\n",
    "permalink = \"\"\n",
    "title = \"\""
   ]
  },
  {
   "cell_type": "code",
   "execution_count": 4,
   "metadata": {},
   "outputs": [
    {
     "name": "stdout",
     "output_type": "stream",
     "text": [
      "Berkeley CA, USA \n",
      " Berkeley, Alameda County, California, United States of America\n",
      "Los Angeles, CA \n",
      " LA, Los Angeles County, California, United States of America\n",
      "London, UK \n",
      " London, Greater London, England, UK\n",
      "San Francisco, California \n",
      " SF, California, United States of America\n"
     ]
    }
   ],
   "source": [
    "\n",
    "for file in g:\n",
    "    with open(file, 'r') as f:\n",
    "        lines = f.read()\n",
    "        if lines.find('location: \"') > 1:\n",
    "            loc_start = lines.find('location: \"') + 11\n",
    "            lines_trim = lines[loc_start:]\n",
    "            loc_end = lines_trim.find('\"')\n",
    "            location = lines_trim[:loc_end]\n",
    "                            \n",
    "           \n",
    "        location_dict[location] = geocoder.geocode(location)\n",
    "        print(location, \"\\n\", location_dict[location])\n"
   ]
  },
  {
   "cell_type": "code",
   "execution_count": 5,
   "metadata": {},
   "outputs": [
    {
     "data": {
      "text/plain": [
       "'Written map to ../talkmap/'"
      ]
     },
     "execution_count": 5,
     "metadata": {},
     "output_type": "execute_result"
    }
   ],
   "source": [
    "m = getorg.orgmap.create_map_obj()\n",
    "getorg.orgmap.output_html_cluster_map(location_dict, folder_name=\"../talkmap\", hashed_usernames=False)"
   ]
  },
  {
   "cell_type": "code",
   "execution_count": null,
   "metadata": {
    "collapsed": true
   },
   "outputs": [],
   "source": []
  }
 ],
 "metadata": {
  "anaconda-cloud": {},
  "kernelspec": {
   "display_name": "Python 3",
   "language": "python",
   "name": "python3"
  },
  "language_info": {
   "codemirror_mode": {
    "name": "ipython",
    "version": 3
   },
   "file_extension": ".py",
   "mimetype": "text/x-python",
   "name": "python",
   "nbconvert_exporter": "python",
   "pygments_lexer": "ipython3",
   "version": "3.8.1"
  }
 },
 "nbformat": 4,
 "nbformat_minor": 1
}
