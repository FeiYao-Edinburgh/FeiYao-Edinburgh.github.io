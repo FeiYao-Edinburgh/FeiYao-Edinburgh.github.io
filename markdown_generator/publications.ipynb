{
 "cells": [
  {
   "cell_type": "markdown",
   "metadata": {},
   "source": [
    "# Publications markdown generator for academicpages\n",
    "\n",
    "Takes a TSV of publications with metadata and converts them for use with [academicpages.github.io](academicpages.github.io). This is an interactive Jupyter notebook ([see more info here](http://jupyter-notebook-beginner-guide.readthedocs.io/en/latest/what_is_jupyter.html)). The core python code is also in `publications.py`. Run either from the `markdown_generator` folder after replacing `publications.tsv` with one containing your data.\n",
    "\n",
    "TODO: Make this work with BibTex and other databases of citations, rather than Stuart's non-standard TSV format and citation style.\n"
   ]
  },
  {
   "cell_type": "markdown",
   "metadata": {},
   "source": [
    "## Data format\n",
    "\n",
    "The TSV needs to have the following columns: pub_date, title, venue, excerpt, citation, site_url, and paper_url, with a header at the top. \n",
    "\n",
    "- `excerpt` and `paper_url` can be blank, but the others must have values. \n",
    "- `pub_date` must be formatted as YYYY-MM-DD.\n",
    "- `url_slug` will be the descriptive part of the .md file and the permalink URL for the page about the paper. The .md file will be `YYYY-MM-DD-[url_slug].md` and the permalink will be `https://[yourdomain]/publications/YYYY-MM-DD-[url_slug]`\n",
    "\n",
    "This is how the raw file looks (it doesn't look pretty, use a spreadsheet or other program to edit and create)."
   ]
  },
  {
   "cell_type": "code",
   "execution_count": 37,
   "metadata": {},
   "outputs": [
    {
     "name": "stdout",
     "output_type": "stream",
     "text": [
      "pub_date\ttitle\tvenue\texcerpt\tcitation\turl_slug\tpaper_url\r",
      "\r\n",
      "2015-06-20\tAutomatic image classification and retrieval by analyzing plant leaf features\tJournal of Zhejiang A&F University\tWe proposed a novel conceptual framework for discerning tree species from plant leaf digital images and assessed its applicability.\t\"<b>Yao Fei</b>, Ye Kang, Zhou Jianhua. 2015. Automatic image classification and retrieval by analyzing plant leaf features. <u><i>Journal of Zhejiang A & F University</i></u>. 32(3): 426-433.\"\tAutomatic-image-classification-and-retrieval-by-analyzing-plant-leaf-features\thttp://zlxb.zafu.edu.cn/CN/abstract/abstract1071.shtml\r",
      "\r\n",
      "2016-10-01\tVIIRS-based remote sensing estimation of ground-level PM<sub>2.5</sub> concentrations in Beijing-Tianjin-Hebei: A spatiotemporal statistical model\tRemote Sensing of Environment\tWe proposed a novel spatiotemporal statistical model to estimate ground-level PM<sub>2.5</sub> concentrations from the aerosol optical depth retrieved from the Visible Infrared Imaging Radiometer Suite (VIIRS) instrument over Beijing-Tianjin-Hebei region. This is one of the earliest empirical studies that examine the remote sensing retrievals of ground-level PM<sub>2.5</sub> concentrations from VIIRS in China.\t\"Wu Jiansheng, <b>Yao Fei</b>, Li Weifeng<sup> *</sup>, Si Menglin. 2015. VIIRS-based remote sensing estimation of ground-level PM<sub>2.5</sub> concentrations in Beijing-Tianjin-Hebei: A spatiotemporal statistical model. <u><i>Remote Sensing of Environment</i></u>. 184: 316-328.\"\tVIIRS-based-remote-sensing-estimation-of-ground-level-PM2.5-concentrations-in-Beijing-Tianjin-Hebei-A-spatiotemporal-statistical-model\thttps://www.sciencedirect.com/science/article/pii/S0034425716302735\r",
      "\r\n"
     ]
    }
   ],
   "source": [
    "!cat publications.tsv"
   ]
  },
  {
   "cell_type": "markdown",
   "metadata": {},
   "source": [
    "## Import pandas\n",
    "\n",
    "We are using the very handy pandas library for dataframes."
   ]
  },
  {
   "cell_type": "code",
   "execution_count": 38,
   "metadata": {},
   "outputs": [],
   "source": [
    "import pandas as pd"
   ]
  },
  {
   "cell_type": "markdown",
   "metadata": {},
   "source": [
    "## Import TSV\n",
    "\n",
    "Pandas makes this easy with the read_csv function. We are using a TSV, so we specify the separator as a tab, or `\\t`.\n",
    "\n",
    "I found it important to put this data in a tab-separated values format, because there are a lot of commas in this kind of data and comma-separated values can get messed up. However, you can modify the import statement, as pandas also has read_excel(), read_json(), and others."
   ]
  },
  {
   "cell_type": "code",
   "execution_count": 39,
   "metadata": {},
   "outputs": [
    {
     "data": {
      "text/html": [
       "<div>\n",
       "<style scoped>\n",
       "    .dataframe tbody tr th:only-of-type {\n",
       "        vertical-align: middle;\n",
       "    }\n",
       "\n",
       "    .dataframe tbody tr th {\n",
       "        vertical-align: top;\n",
       "    }\n",
       "\n",
       "    .dataframe thead th {\n",
       "        text-align: right;\n",
       "    }\n",
       "</style>\n",
       "<table border=\"1\" class=\"dataframe\">\n",
       "  <thead>\n",
       "    <tr style=\"text-align: right;\">\n",
       "      <th></th>\n",
       "      <th>pub_date</th>\n",
       "      <th>title</th>\n",
       "      <th>venue</th>\n",
       "      <th>excerpt</th>\n",
       "      <th>citation</th>\n",
       "      <th>url_slug</th>\n",
       "      <th>paper_url</th>\n",
       "    </tr>\n",
       "  </thead>\n",
       "  <tbody>\n",
       "    <tr>\n",
       "      <th>0</th>\n",
       "      <td>2015-06-20</td>\n",
       "      <td>Automatic image classification and retrieval b...</td>\n",
       "      <td>Journal of Zhejiang A&amp;F University</td>\n",
       "      <td>We proposed a novel conceptual framework for d...</td>\n",
       "      <td>&lt;b&gt;Yao Fei&lt;/b&gt;, Ye Kang, Zhou Jianhua. 2015. A...</td>\n",
       "      <td>Automatic-image-classification-and-retrieval-b...</td>\n",
       "      <td>http://zlxb.zafu.edu.cn/CN/abstract/abstract10...</td>\n",
       "    </tr>\n",
       "    <tr>\n",
       "      <th>1</th>\n",
       "      <td>2016-10-01</td>\n",
       "      <td>VIIRS-based remote sensing estimation of groun...</td>\n",
       "      <td>Remote Sensing of Environment</td>\n",
       "      <td>We proposed a novel spatiotemporal statistical...</td>\n",
       "      <td>Wu Jiansheng, &lt;b&gt;Yao Fei&lt;/b&gt;, Li Weifeng&lt;sup&gt; ...</td>\n",
       "      <td>VIIRS-based-remote-sensing-estimation-of-groun...</td>\n",
       "      <td>https://www.sciencedirect.com/science/article/...</td>\n",
       "    </tr>\n",
       "  </tbody>\n",
       "</table>\n",
       "</div>"
      ],
      "text/plain": [
       "     pub_date                                              title  \\\n",
       "0  2015-06-20  Automatic image classification and retrieval b...   \n",
       "1  2016-10-01  VIIRS-based remote sensing estimation of groun...   \n",
       "\n",
       "                                venue  \\\n",
       "0  Journal of Zhejiang A&F University   \n",
       "1       Remote Sensing of Environment   \n",
       "\n",
       "                                             excerpt  \\\n",
       "0  We proposed a novel conceptual framework for d...   \n",
       "1  We proposed a novel spatiotemporal statistical...   \n",
       "\n",
       "                                            citation  \\\n",
       "0  <b>Yao Fei</b>, Ye Kang, Zhou Jianhua. 2015. A...   \n",
       "1  Wu Jiansheng, <b>Yao Fei</b>, Li Weifeng<sup> ...   \n",
       "\n",
       "                                            url_slug  \\\n",
       "0  Automatic-image-classification-and-retrieval-b...   \n",
       "1  VIIRS-based-remote-sensing-estimation-of-groun...   \n",
       "\n",
       "                                           paper_url  \n",
       "0  http://zlxb.zafu.edu.cn/CN/abstract/abstract10...  \n",
       "1  https://www.sciencedirect.com/science/article/...  "
      ]
     },
     "execution_count": 39,
     "metadata": {},
     "output_type": "execute_result"
    }
   ],
   "source": [
    "publications = pd.read_csv(\"publications.tsv\", sep=\"\\t\", header=0)\n",
    "publications\n"
   ]
  },
  {
   "cell_type": "markdown",
   "metadata": {},
   "source": [
    "## Escape special characters\n",
    "\n",
    "YAML is very picky about how it takes a valid string, so we are replacing single and double quotes (and ampersands) with their HTML encoded equivilents. This makes them look not so readable in raw format, but they are parsed and rendered nicely."
   ]
  },
  {
   "cell_type": "code",
   "execution_count": 40,
   "metadata": {},
   "outputs": [],
   "source": [
    "html_escape_table = {\n",
    "    \"&\": \"&amp;\",\n",
    "    '\"': \"&quot;\",\n",
    "    \"'\": \"&apos;\"\n",
    "    }\n",
    "\n",
    "def html_escape(text):\n",
    "    \"\"\"Produce entities within text.\"\"\"\n",
    "    return \"\".join(html_escape_table.get(c,c) for c in text)"
   ]
  },
  {
   "cell_type": "markdown",
   "metadata": {},
   "source": [
    "## Creating the markdown files\n",
    "\n",
    "This is where the heavy lifting is done. This loops through all the rows in the TSV dataframe, then starts to concatentate a big string (```md```) that contains the markdown for each type. It does the YAML metadata first, then does the description for the individual page."
   ]
  },
  {
   "cell_type": "code",
   "execution_count": 41,
   "metadata": {},
   "outputs": [],
   "source": [
    "import os\n",
    "for row, item in publications.iterrows():\n",
    "    \n",
    "    md_filename = str(item.pub_date) + \"-\" + item.url_slug + \".md\"\n",
    "    html_filename = str(item.pub_date) + \"-\" + item.url_slug\n",
    "    year = item.pub_date[:4]\n",
    "    \n",
    "    ## YAML variables\n",
    "    \n",
    "    md = \"---\\ntitle: \\\"\"   + item.title + '\"\\n'\n",
    "    \n",
    "    md += \"\"\"collection: publications\"\"\"\n",
    "    \n",
    "    md += \"\"\"\\npermalink: /publication/\"\"\" + html_filename\n",
    "    \n",
    "    if len(str(item.excerpt)) > 5:\n",
    "        md += \"\\nexcerpt: '\" + html_escape(item.excerpt) + \"'\"\n",
    "    \n",
    "    md += \"\\ndate: \" + str(item.pub_date) \n",
    "    \n",
    "    md += \"\\nvenue: '\" + html_escape(item.venue) + \"'\"\n",
    "    \n",
    "    if len(str(item.paper_url)) > 5:\n",
    "        md += \"\\npaperurl: '\" + item.paper_url + \"'\"\n",
    "    \n",
    "    md += \"\\ncitation: '\" + html_escape(item.citation) + \"'\"\n",
    "    \n",
    "    md += \"\\n---\"\n",
    "    \n",
    "    ## Markdown description for individual page\n",
    "        \n",
    "    if len(str(item.excerpt)) > 5:\n",
    "        md += \"\\n\" + html_escape(item.excerpt) + \"\\n\"\n",
    "    \n",
    "    if len(str(item.paper_url)) > 5:\n",
    "        md += \"\\n[Download paper here](\" + item.paper_url + \")\\n\" \n",
    "        \n",
    "    md += \"\\nRecommended citation: \" + item.citation\n",
    "    \n",
    "    md_filename = os.path.basename(md_filename)\n",
    "       \n",
    "    with open(\"../_publications/\" + md_filename, 'w') as f:\n",
    "        f.write(md)"
   ]
  },
  {
   "cell_type": "markdown",
   "metadata": {},
   "source": [
    "These files are in the publications directory, one directory below where we're working from."
   ]
  },
  {
   "cell_type": "code",
   "execution_count": 42,
   "metadata": {},
   "outputs": [
    {
     "name": "stdout",
     "output_type": "stream",
     "text": [
      "2015-06-20-Automatic-image-classification-and-retrieval-by-analyzing-plant-leaf-features.md\r\n",
      "2016-10-01-VIIRS-based-remote-sensing-estimation-of-ground-level-PM2.5-concentrations-in-Beijing-Tianjin-Hebei-A-spatiotemporal-statistical-model.md\r\n"
     ]
    }
   ],
   "source": [
    "!ls ../_publications/"
   ]
  },
  {
   "cell_type": "code",
   "execution_count": 43,
   "metadata": {},
   "outputs": [
    {
     "name": "stdout",
     "output_type": "stream",
     "text": [
      "cat: ../_publications/2009-10-01-paper-title-number-1.md: No such file or directory\r\n"
     ]
    }
   ],
   "source": [
    "!cat ../_publications/2009-10-01-paper-title-number-1.md"
   ]
  },
  {
   "cell_type": "code",
   "execution_count": null,
   "metadata": {},
   "outputs": [],
   "source": []
  }
 ],
 "metadata": {
  "kernelspec": {
   "display_name": "Python 3",
   "language": "python",
   "name": "python3"
  },
  "language_info": {
   "codemirror_mode": {
    "name": "ipython",
    "version": 3
   },
   "file_extension": ".py",
   "mimetype": "text/x-python",
   "name": "python",
   "nbconvert_exporter": "python",
   "pygments_lexer": "ipython3",
   "version": "3.6.6"
  }
 },
 "nbformat": 4,
 "nbformat_minor": 1
}
